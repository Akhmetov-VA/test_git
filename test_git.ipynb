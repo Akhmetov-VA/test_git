{
 "cells": [
  {
   "cell_type": "code",
   "execution_count": 1,
   "id": "94726b3f-e908-4d49-9336-e391c7d05a98",
   "metadata": {},
   "outputs": [],
   "source": [
    "import pandas as pd"
   ]
  },
  {
   "cell_type": "code",
   "execution_count": null,
   "id": "f83ce068-8ce4-467a-a522-84036021a3ef",
   "metadata": {},
   "outputs": [],
   "source": [
    "df = pd.read_csv('some/path/')"
   ]
  },
  {
   "cell_type": "code",
   "execution_count": null,
   "id": "b6a93d80-8cd5-4044-bc30-a24ccf00b7e0",
   "metadata": {},
   "outputs": [],
   "source": [
    "from sklearn.base import BaseEstimator, RegressorMixin, ClassifierMixin\n",
    "from sklearn.tree import DecisionTreeRegressor, DecisionTreeClassifier\n",
    "\n",
    "class MyBoosting(BaseEstimator):\n",
    "    \n",
    "    def __init__(self, base_clf=DecisionTreeRegressor, n_estimators: int = 5, learning_rate: float = 0.01, **kwargs):\n",
    "        self.base_clf = base_clf\n",
    "        self.n_estimators = n_estimators\n",
    "        self.learning_rate = learning_rate\n",
    "        self.clf_collection = []\n",
    "        self.kwargs = kwargs\n",
    "\n",
    "    def fit(self, X, y):\n",
    "        y_hat = y.copy()\n",
    "        self.clf_collection = []\n",
    "        \n",
    "        for i in range(self.n_estimators):\n",
    "            model = self.base_clf(**self.kwargs).fit(X, y_hat)\n",
    "            y_hat = y_hat - model.predict(X) * self.learning_rate\n",
    "            self.clf_collection.append(model)\n",
    "        \n",
    "        # TODO: добавить обучение линейной регрессии\n",
    "        X_new = []\n",
    "        for model in self.clf_collection:\n",
    "            pred = model.predict(X) * self.learning_rate\n",
    "            X_new.append(pred)\n",
    "                        \n",
    "        return self  # Возвращаем self для совместимости со sklearn\n",
    "\n",
    "    def predict(self, X):\n",
    "        y_pred_collection = []\n",
    "        \n",
    "        for model in self.clf_collection:\n",
    "            pred = model.predict(X) * self.learning_rate\n",
    "            y_pred_collection.append(pred)\n",
    "            \n",
    "        return sum(y_pred_collection)\n",
    "\n",
    "    def fit_predict(self, X, y):\n",
    "        self.fit(X, y)\n",
    "        return self.predict(X)\n",
    "    \n",
    "    def get_params(self, deep=True):\n",
    "        return {\n",
    "            'base_clf': self.base_clf,\n",
    "            'n_estimators': self.n_estimators,\n",
    "            'learning_rate': self.learning_rate,\n",
    "            **self.kwargs\n",
    "        }\n",
    "    \n",
    "    def set_params(self, **params):\n",
    "        for key, value in params.items():\n",
    "            if key in ['base_clf', 'n_estimators', 'learning_rate']:\n",
    "                setattr(self, key, value)\n",
    "            else:\n",
    "                self.kwargs[key] = value\n",
    "        return self"
   ]
  }
 ],
 "metadata": {
  "kernelspec": {
   "display_name": "Python 3 (ipykernel)",
   "language": "python",
   "name": "python3"
  },
  "language_info": {
   "codemirror_mode": {
    "name": "ipython",
    "version": 3
   },
   "file_extension": ".py",
   "mimetype": "text/x-python",
   "name": "python",
   "nbconvert_exporter": "python",
   "pygments_lexer": "ipython3",
   "version": "3.12.3"
  }
 },
 "nbformat": 4,
 "nbformat_minor": 5
}
